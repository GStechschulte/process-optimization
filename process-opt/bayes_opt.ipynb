{
 "cells": [
  {
   "cell_type": "code",
   "execution_count": 1,
   "metadata": {},
   "outputs": [
    {
     "name": "stderr",
     "output_type": "stream",
     "text": [
      "/Users/gabestechschulte/miniforge3/envs/bayesopt/lib/python3.11/site-packages/tqdm/auto.py:21: TqdmWarning: IProgress not found. Please update jupyter and ipywidgets. See https://ipywidgets.readthedocs.io/en/stable/user_install.html\n",
      "  from .autonotebook import tqdm as notebook_tqdm\n"
     ]
    }
   ],
   "source": [
    "import botorch\n",
    "import gpytorch\n",
    "import matplotlib.pyplot as plt\n",
    "import pandas as pd\n",
    "import torch\n",
    "from tqdm import tqdm\n",
    "\n",
    "from sklearn.model_selection import train_test_split\n",
    "from sklearn.preprocessing import MinMaxScaler, StandardScaler"
   ]
  },
  {
   "cell_type": "code",
   "execution_count": 2,
   "metadata": {},
   "outputs": [],
   "source": [
    "building_energy = pd.read_excel(\"../data/ENB2012_data.xlsx\")"
   ]
  },
  {
   "cell_type": "code",
   "execution_count": 3,
   "metadata": {},
   "outputs": [],
   "source": [
    "feature_names = [\n",
    "    \"Relative Compactness\", \"Surface Area\", \"Wall Area\", \n",
    "    \"Roof Area\", \"Overall Height\", \"Orientation\", \n",
    "    \"Glazing Area\", \"Glazing Area Distribution\", \"Heating Load\", \n",
    "    \"Cooling Load\"\n",
    "]\n",
    "\n",
    "building_energy.columns = feature_names\n",
    "building_energy.columns = (building_energy.columns\n",
    "                           .str.replace(' ', '_')\n",
    "                           .str.lower()\n",
    "                        )\n",
    "\n",
    "building_energy[\"energy_consumption\"] = building_energy[[\"heating_load\", \"cooling_load\"]].sum(axis=1)"
   ]
  },
  {
   "cell_type": "code",
   "execution_count": 4,
   "metadata": {},
   "outputs": [],
   "source": [
    "X = building_energy.drop([\"heating_load\", \"cooling_load\", \"energy_consumption\"], axis=1)\n",
    "y = building_energy[\"energy_consumption\"]"
   ]
  },
  {
   "cell_type": "code",
   "execution_count": 5,
   "metadata": {},
   "outputs": [
    {
     "data": {
      "text/html": [
       "<div>\n",
       "<style scoped>\n",
       "    .dataframe tbody tr th:only-of-type {\n",
       "        vertical-align: middle;\n",
       "    }\n",
       "\n",
       "    .dataframe tbody tr th {\n",
       "        vertical-align: top;\n",
       "    }\n",
       "\n",
       "    .dataframe thead th {\n",
       "        text-align: right;\n",
       "    }\n",
       "</style>\n",
       "<table border=\"1\" class=\"dataframe\">\n",
       "  <thead>\n",
       "    <tr style=\"text-align: right;\">\n",
       "      <th></th>\n",
       "      <th>count</th>\n",
       "      <th>mean</th>\n",
       "      <th>std</th>\n",
       "      <th>min</th>\n",
       "      <th>25%</th>\n",
       "      <th>50%</th>\n",
       "      <th>75%</th>\n",
       "      <th>max</th>\n",
       "    </tr>\n",
       "  </thead>\n",
       "  <tbody>\n",
       "    <tr>\n",
       "      <th>relative_compactness</th>\n",
       "      <td>768.0</td>\n",
       "      <td>0.764167</td>\n",
       "      <td>0.105777</td>\n",
       "      <td>0.62</td>\n",
       "      <td>0.6825</td>\n",
       "      <td>0.75</td>\n",
       "      <td>0.8300</td>\n",
       "      <td>0.98</td>\n",
       "    </tr>\n",
       "    <tr>\n",
       "      <th>surface_area</th>\n",
       "      <td>768.0</td>\n",
       "      <td>671.708333</td>\n",
       "      <td>88.086116</td>\n",
       "      <td>514.50</td>\n",
       "      <td>606.3750</td>\n",
       "      <td>673.75</td>\n",
       "      <td>741.1250</td>\n",
       "      <td>808.50</td>\n",
       "    </tr>\n",
       "    <tr>\n",
       "      <th>wall_area</th>\n",
       "      <td>768.0</td>\n",
       "      <td>318.500000</td>\n",
       "      <td>43.626481</td>\n",
       "      <td>245.00</td>\n",
       "      <td>294.0000</td>\n",
       "      <td>318.50</td>\n",
       "      <td>343.0000</td>\n",
       "      <td>416.50</td>\n",
       "    </tr>\n",
       "    <tr>\n",
       "      <th>roof_area</th>\n",
       "      <td>768.0</td>\n",
       "      <td>176.604167</td>\n",
       "      <td>45.165950</td>\n",
       "      <td>110.25</td>\n",
       "      <td>140.8750</td>\n",
       "      <td>183.75</td>\n",
       "      <td>220.5000</td>\n",
       "      <td>220.50</td>\n",
       "    </tr>\n",
       "    <tr>\n",
       "      <th>overall_height</th>\n",
       "      <td>768.0</td>\n",
       "      <td>5.250000</td>\n",
       "      <td>1.751140</td>\n",
       "      <td>3.50</td>\n",
       "      <td>3.5000</td>\n",
       "      <td>5.25</td>\n",
       "      <td>7.0000</td>\n",
       "      <td>7.00</td>\n",
       "    </tr>\n",
       "    <tr>\n",
       "      <th>orientation</th>\n",
       "      <td>768.0</td>\n",
       "      <td>3.500000</td>\n",
       "      <td>1.118763</td>\n",
       "      <td>2.00</td>\n",
       "      <td>2.7500</td>\n",
       "      <td>3.50</td>\n",
       "      <td>4.2500</td>\n",
       "      <td>5.00</td>\n",
       "    </tr>\n",
       "    <tr>\n",
       "      <th>glazing_area</th>\n",
       "      <td>768.0</td>\n",
       "      <td>0.234375</td>\n",
       "      <td>0.133221</td>\n",
       "      <td>0.00</td>\n",
       "      <td>0.1000</td>\n",
       "      <td>0.25</td>\n",
       "      <td>0.4000</td>\n",
       "      <td>0.40</td>\n",
       "    </tr>\n",
       "    <tr>\n",
       "      <th>glazing_area_distribution</th>\n",
       "      <td>768.0</td>\n",
       "      <td>2.812500</td>\n",
       "      <td>1.550960</td>\n",
       "      <td>0.00</td>\n",
       "      <td>1.7500</td>\n",
       "      <td>3.00</td>\n",
       "      <td>4.0000</td>\n",
       "      <td>5.00</td>\n",
       "    </tr>\n",
       "    <tr>\n",
       "      <th>heating_load</th>\n",
       "      <td>768.0</td>\n",
       "      <td>22.307195</td>\n",
       "      <td>10.090204</td>\n",
       "      <td>6.01</td>\n",
       "      <td>12.9925</td>\n",
       "      <td>18.95</td>\n",
       "      <td>31.6675</td>\n",
       "      <td>43.10</td>\n",
       "    </tr>\n",
       "    <tr>\n",
       "      <th>cooling_load</th>\n",
       "      <td>768.0</td>\n",
       "      <td>24.587760</td>\n",
       "      <td>9.513306</td>\n",
       "      <td>10.90</td>\n",
       "      <td>15.6200</td>\n",
       "      <td>22.08</td>\n",
       "      <td>33.1325</td>\n",
       "      <td>48.03</td>\n",
       "    </tr>\n",
       "    <tr>\n",
       "      <th>energy_consumption</th>\n",
       "      <td>768.0</td>\n",
       "      <td>46.894956</td>\n",
       "      <td>19.484955</td>\n",
       "      <td>16.95</td>\n",
       "      <td>28.7500</td>\n",
       "      <td>40.97</td>\n",
       "      <td>64.3350</td>\n",
       "      <td>89.95</td>\n",
       "    </tr>\n",
       "  </tbody>\n",
       "</table>\n",
       "</div>"
      ],
      "text/plain": [
       "                           count        mean        std     min       25%  \\\n",
       "relative_compactness       768.0    0.764167   0.105777    0.62    0.6825   \n",
       "surface_area               768.0  671.708333  88.086116  514.50  606.3750   \n",
       "wall_area                  768.0  318.500000  43.626481  245.00  294.0000   \n",
       "roof_area                  768.0  176.604167  45.165950  110.25  140.8750   \n",
       "overall_height             768.0    5.250000   1.751140    3.50    3.5000   \n",
       "orientation                768.0    3.500000   1.118763    2.00    2.7500   \n",
       "glazing_area               768.0    0.234375   0.133221    0.00    0.1000   \n",
       "glazing_area_distribution  768.0    2.812500   1.550960    0.00    1.7500   \n",
       "heating_load               768.0   22.307195  10.090204    6.01   12.9925   \n",
       "cooling_load               768.0   24.587760   9.513306   10.90   15.6200   \n",
       "energy_consumption         768.0   46.894956  19.484955   16.95   28.7500   \n",
       "\n",
       "                              50%       75%     max  \n",
       "relative_compactness         0.75    0.8300    0.98  \n",
       "surface_area               673.75  741.1250  808.50  \n",
       "wall_area                  318.50  343.0000  416.50  \n",
       "roof_area                  183.75  220.5000  220.50  \n",
       "overall_height               5.25    7.0000    7.00  \n",
       "orientation                  3.50    4.2500    5.00  \n",
       "glazing_area                 0.25    0.4000    0.40  \n",
       "glazing_area_distribution    3.00    4.0000    5.00  \n",
       "heating_load                18.95   31.6675   43.10  \n",
       "cooling_load                22.08   33.1325   48.03  \n",
       "energy_consumption          40.97   64.3350   89.95  "
      ]
     },
     "execution_count": 5,
     "metadata": {},
     "output_type": "execute_result"
    }
   ],
   "source": [
    "building_energy.describe().T"
   ]
  },
  {
   "cell_type": "code",
   "execution_count": 6,
   "metadata": {},
   "outputs": [
    {
     "data": {
      "text/plain": [
       "relative_compactness          12\n",
       "surface_area                  12\n",
       "wall_area                      7\n",
       "roof_area                      4\n",
       "overall_height                 2\n",
       "orientation                    4\n",
       "glazing_area                   4\n",
       "glazing_area_distribution      6\n",
       "heating_load                 587\n",
       "cooling_load                 636\n",
       "energy_consumption           700\n",
       "dtype: int64"
      ]
     },
     "execution_count": 6,
     "metadata": {},
     "output_type": "execute_result"
    }
   ],
   "source": [
    "building_energy.nunique()"
   ]
  },
  {
   "cell_type": "markdown",
   "metadata": {},
   "source": [
    "## GP training"
   ]
  },
  {
   "cell_type": "code",
   "execution_count": 7,
   "metadata": {},
   "outputs": [],
   "source": [
    "X_train, X_test, y_train, y_test = train_test_split(X, y, test_size=0.3)\n",
    "\n",
    "min_max_scaler = MinMaxScaler()\n",
    "std_scaler = StandardScaler()\n",
    "\n",
    "X_train_scaled = torch.tensor(min_max_scaler.fit_transform(X_train), dtype=torch.float)\n",
    "before = X_train_scaled.clone().detach()\n",
    "X_test_scaled = torch.tensor(min_max_scaler.transform(X_test), dtype=torch.float)\n",
    "\n",
    "y_train = torch.tensor(y_train.values, dtype=torch.float)\n",
    "y_test = torch.tensor(y_test.values, dtype=torch.float)"
   ]
  },
  {
   "cell_type": "code",
   "execution_count": 8,
   "metadata": {},
   "outputs": [],
   "source": [
    "class GP(gpytorch.models.ExactGP, botorch.models.gpytorch.GPyTorchModel):\n",
    "    num_outputs = 1\n",
    "    def __init__(self, train_x, train_y, likelihood):\n",
    "        super(GP, self).__init__(train_x, train_y, likelihood)\n",
    "        self.mean_module = gpytorch.means.ConstantMean()\n",
    "        self.covar_module = gpytorch.kernels.ScaleKernel(\n",
    "            gpytorch.kernels.RBFKernel(\n",
    "                ard_num_dims=train_x.shape[1]\n",
    "                )\n",
    "        )\n",
    "\n",
    "    def forward(self, x):\n",
    "        mean_x = self.mean_module(x)\n",
    "        covar_x = self.covar_module(x)\n",
    "        return gpytorch.distributions.MultivariateNormal(mean_x, covar_x)"
   ]
  },
  {
   "cell_type": "code",
   "execution_count": 9,
   "metadata": {},
   "outputs": [],
   "source": [
    "def fit_model(gp_model, num_iters=100):\n",
    "    noise = 1e-4\n",
    "    likelihood = gpytorch.likelihoods.GaussianLikelihood()\n",
    "    model = gp_model(X_train_scaled, y_train, likelihood)\n",
    "    model.likelihood.noise = noise\n",
    "    optimizer = torch.optim.Adam(model.parameters(), lr=0.1)\n",
    "    mll = gpytorch.mlls.ExactMarginalLogLikelihood(likelihood, model)\n",
    "\n",
    "    model.train()\n",
    "    likelihood.train()\n",
    "\n",
    "    loss_hist = []\n",
    "    for _ in tqdm(range(num_iters)):\n",
    "        optimizer.zero_grad()\n",
    "        output = model(X_train_scaled)\n",
    "        loss = -mll(output, y_train)\n",
    "        loss_hist.append(loss.item())\n",
    "\n",
    "        loss.backward()\n",
    "        optimizer.step()\n",
    "    \n",
    "    return model, likelihood, loss_hist"
   ]
  },
  {
   "cell_type": "code",
   "execution_count": 10,
   "metadata": {},
   "outputs": [],
   "source": [
    "# metrics\n",
    "# nlpd = gpytorch.metrics.negative_log_predictive_density(predictive_dist, y_test)\n",
    "# mse = gpytorch.metrics.mean_squared_error(predictive_dist, y_test, squared=True)\n",
    "# mae = gpytorch.metrics.mean_absolute_error(predictive_dist, y_test)"
   ]
  },
  {
   "cell_type": "markdown",
   "metadata": {},
   "source": [
    "Setting the bounds for the domain (search space) requires prior knowledge about the problem. \n",
    "\n",
    "It may not be desireable to set the lower and upper bound to the empirical min and max if it is possible to have values outside of these ranges. Doing so may restrict the domain, and thus the co-domain.\n",
    "\n",
    "Additionally, bounds may be set that are according to technical specifications. For example, belt speed, cutting angle, etc."
   ]
  },
  {
   "cell_type": "code",
   "execution_count": 11,
   "metadata": {},
   "outputs": [
    {
     "data": {
      "text/html": [
       "<div>\n",
       "<style scoped>\n",
       "    .dataframe tbody tr th:only-of-type {\n",
       "        vertical-align: middle;\n",
       "    }\n",
       "\n",
       "    .dataframe tbody tr th {\n",
       "        vertical-align: top;\n",
       "    }\n",
       "\n",
       "    .dataframe thead th {\n",
       "        text-align: right;\n",
       "    }\n",
       "</style>\n",
       "<table border=\"1\" class=\"dataframe\">\n",
       "  <thead>\n",
       "    <tr style=\"text-align: right;\">\n",
       "      <th></th>\n",
       "      <th>count</th>\n",
       "      <th>mean</th>\n",
       "      <th>std</th>\n",
       "      <th>min</th>\n",
       "      <th>25%</th>\n",
       "      <th>50%</th>\n",
       "      <th>75%</th>\n",
       "      <th>max</th>\n",
       "    </tr>\n",
       "  </thead>\n",
       "  <tbody>\n",
       "    <tr>\n",
       "      <th>relative_compactness</th>\n",
       "      <td>537.0</td>\n",
       "      <td>0.000000e+00</td>\n",
       "      <td>1.000932</td>\n",
       "      <td>-1.394777</td>\n",
       "      <td>-0.725177</td>\n",
       "      <td>-0.055577</td>\n",
       "      <td>0.518365</td>\n",
       "      <td>2.048879</td>\n",
       "    </tr>\n",
       "    <tr>\n",
       "      <th>surface_area</th>\n",
       "      <td>537.0</td>\n",
       "      <td>-1.775930e-08</td>\n",
       "      <td>1.000932</td>\n",
       "      <td>-1.790930</td>\n",
       "      <td>-0.661808</td>\n",
       "      <td>-0.097247</td>\n",
       "      <td>0.749594</td>\n",
       "      <td>1.596435</td>\n",
       "    </tr>\n",
       "    <tr>\n",
       "      <th>wall_area</th>\n",
       "      <td>537.0</td>\n",
       "      <td>0.000000e+00</td>\n",
       "      <td>1.000932</td>\n",
       "      <td>-1.693706</td>\n",
       "      <td>-0.579781</td>\n",
       "      <td>-0.022818</td>\n",
       "      <td>0.534145</td>\n",
       "      <td>2.205034</td>\n",
       "    </tr>\n",
       "    <tr>\n",
       "      <th>roof_area</th>\n",
       "      <td>537.0</td>\n",
       "      <td>-9.767614e-09</td>\n",
       "      <td>1.000932</td>\n",
       "      <td>-1.439275</td>\n",
       "      <td>-1.167895</td>\n",
       "      <td>-0.625134</td>\n",
       "      <td>1.003146</td>\n",
       "      <td>1.003146</td>\n",
       "    </tr>\n",
       "    <tr>\n",
       "      <th>overall_height</th>\n",
       "      <td>537.0</td>\n",
       "      <td>7.103719e-09</td>\n",
       "      <td>1.000932</td>\n",
       "      <td>-1.032175</td>\n",
       "      <td>-1.032175</td>\n",
       "      <td>0.968828</td>\n",
       "      <td>0.968828</td>\n",
       "      <td>0.968828</td>\n",
       "    </tr>\n",
       "    <tr>\n",
       "      <th>orientation</th>\n",
       "      <td>537.0</td>\n",
       "      <td>1.775930e-08</td>\n",
       "      <td>1.000932</td>\n",
       "      <td>-1.346642</td>\n",
       "      <td>-0.459345</td>\n",
       "      <td>-0.459345</td>\n",
       "      <td>1.315248</td>\n",
       "      <td>1.315248</td>\n",
       "    </tr>\n",
       "    <tr>\n",
       "      <th>glazing_area</th>\n",
       "      <td>537.0</td>\n",
       "      <td>-2.930284e-08</td>\n",
       "      <td>1.000932</td>\n",
       "      <td>-1.804237</td>\n",
       "      <td>-1.050249</td>\n",
       "      <td>0.080734</td>\n",
       "      <td>1.211717</td>\n",
       "      <td>1.211717</td>\n",
       "    </tr>\n",
       "    <tr>\n",
       "      <th>glazing_area_distribution</th>\n",
       "      <td>537.0</td>\n",
       "      <td>-7.103719e-09</td>\n",
       "      <td>1.000932</td>\n",
       "      <td>-1.909593</td>\n",
       "      <td>-0.601619</td>\n",
       "      <td>0.052368</td>\n",
       "      <td>0.706354</td>\n",
       "      <td>1.360341</td>\n",
       "    </tr>\n",
       "  </tbody>\n",
       "</table>\n",
       "</div>"
      ],
      "text/plain": [
       "                           count          mean       std       min       25%  \\\n",
       "relative_compactness       537.0  0.000000e+00  1.000932 -1.394777 -0.725177   \n",
       "surface_area               537.0 -1.775930e-08  1.000932 -1.790930 -0.661808   \n",
       "wall_area                  537.0  0.000000e+00  1.000932 -1.693706 -0.579781   \n",
       "roof_area                  537.0 -9.767614e-09  1.000932 -1.439275 -1.167895   \n",
       "overall_height             537.0  7.103719e-09  1.000932 -1.032175 -1.032175   \n",
       "orientation                537.0  1.775930e-08  1.000932 -1.346642 -0.459345   \n",
       "glazing_area               537.0 -2.930284e-08  1.000932 -1.804237 -1.050249   \n",
       "glazing_area_distribution  537.0 -7.103719e-09  1.000932 -1.909593 -0.601619   \n",
       "\n",
       "                                50%       75%       max  \n",
       "relative_compactness      -0.055577  0.518365  2.048879  \n",
       "surface_area              -0.097247  0.749594  1.596435  \n",
       "wall_area                 -0.022818  0.534145  2.205034  \n",
       "roof_area                 -0.625134  1.003146  1.003146  \n",
       "overall_height             0.968828  0.968828  0.968828  \n",
       "orientation               -0.459345  1.315248  1.315248  \n",
       "glazing_area               0.080734  1.211717  1.211717  \n",
       "glazing_area_distribution  0.052368  0.706354  1.360341  "
      ]
     },
     "execution_count": 11,
     "metadata": {},
     "output_type": "execute_result"
    }
   ],
   "source": [
    "df_ = pd.DataFrame(X_train_scaled.numpy())\n",
    "df_.columns = X_train.columns\n",
    "df_.describe().T"
   ]
  },
  {
   "cell_type": "code",
   "execution_count": 12,
   "metadata": {},
   "outputs": [],
   "source": [
    "# std scaler bounds\n",
    "# bounds = torch.tensor(\n",
    "#     [\n",
    "#         [-5, -5, -5, -5, -5, -5, -5, -5],\n",
    "#         [5, 5, 5, 5, 5, 5, 5, 5],\n",
    "#     ],\n",
    "#     dtype=torch.float,\n",
    "# )"
   ]
  },
  {
   "cell_type": "code",
   "execution_count": 10,
   "metadata": {},
   "outputs": [],
   "source": [
    "# min_max bounds\n",
    "bounds = torch.tensor(\n",
    "    [\n",
    "        [-2, -2, -2, -2, -2, -2, -2, -2],\n",
    "        [2, 2, 2, 2, 2, 2, 2, 2],\n",
    "    ],\n",
    "    dtype=torch.float,\n",
    ")"
   ]
  },
  {
   "cell_type": "code",
   "execution_count": 11,
   "metadata": {},
   "outputs": [
    {
     "name": "stdout",
     "output_type": "stream",
     "text": [
      "--------------------\n",
      "iteration: 0\n",
      "incumbent: tensor([0.3333, 0.5833, 0.0000, 1.0000, 0.0000, 0.6667, 0.0000, 0.0000]), obj. func. value: 16.9500\n"
     ]
    },
    {
     "name": "stderr",
     "output_type": "stream",
     "text": [
      "100%|██████████| 100/100 [00:00<00:00, 158.10it/s]\n"
     ]
    },
    {
     "name": "stdout",
     "output_type": "stream",
     "text": [
      "--------------------\n",
      "iteration: 1\n",
      "incumbent: tensor([ 0.7224,  0.4977,  0.9110,  1.3525,  0.8434,  0.6503, -0.2428,  0.9844]), obj. func. value: 7.7533\n"
     ]
    },
    {
     "name": "stderr",
     "output_type": "stream",
     "text": [
      "100%|██████████| 100/100 [00:00<00:00, 161.33it/s]\n"
     ]
    },
    {
     "name": "stdout",
     "output_type": "stream",
     "text": [
      "--------------------\n",
      "iteration: 2\n",
      "incumbent: tensor([ 0.7224,  0.4977,  0.9110,  1.3525,  0.8434,  0.6503, -0.2428,  0.9844]), obj. func. value: 7.7533\n"
     ]
    },
    {
     "name": "stderr",
     "output_type": "stream",
     "text": [
      "100%|██████████| 100/100 [00:00<00:00, 156.46it/s]\n"
     ]
    },
    {
     "name": "stdout",
     "output_type": "stream",
     "text": [
      "--------------------\n",
      "iteration: 3\n",
      "incumbent: tensor([ 0.7224,  0.4977,  0.9110,  1.3525,  0.8434,  0.6503, -0.2428,  0.9844]), obj. func. value: 7.7533\n"
     ]
    },
    {
     "name": "stderr",
     "output_type": "stream",
     "text": [
      "100%|██████████| 100/100 [00:00<00:00, 166.78it/s]\n"
     ]
    },
    {
     "name": "stdout",
     "output_type": "stream",
     "text": [
      "--------------------\n",
      "iteration: 4\n",
      "incumbent: tensor([ 0.7224,  0.4977,  0.9110,  1.3525,  0.8434,  0.6503, -0.2428,  0.9844]), obj. func. value: 7.7533\n"
     ]
    },
    {
     "name": "stderr",
     "output_type": "stream",
     "text": [
      "100%|██████████| 100/100 [00:00<00:00, 162.28it/s]\n"
     ]
    },
    {
     "name": "stdout",
     "output_type": "stream",
     "text": [
      "--------------------\n",
      "iteration: 5\n",
      "incumbent: tensor([ 0.7224,  0.4977,  0.9110,  1.3525,  0.8434,  0.6503, -0.2428,  0.9844]), obj. func. value: 7.7533\n"
     ]
    },
    {
     "name": "stderr",
     "output_type": "stream",
     "text": [
      "100%|██████████| 100/100 [00:00<00:00, 154.98it/s]\n"
     ]
    },
    {
     "name": "stdout",
     "output_type": "stream",
     "text": [
      "--------------------\n",
      "iteration: 6\n",
      "incumbent: tensor([ 0.7224,  0.4977,  0.9110,  1.3525,  0.8434,  0.6503, -0.2428,  0.9844]), obj. func. value: 7.7533\n"
     ]
    },
    {
     "name": "stderr",
     "output_type": "stream",
     "text": [
      "100%|██████████| 100/100 [00:00<00:00, 156.18it/s]\n"
     ]
    },
    {
     "name": "stdout",
     "output_type": "stream",
     "text": [
      "--------------------\n",
      "iteration: 7\n",
      "incumbent: tensor([ 0.7224,  0.4977,  0.9110,  1.3525,  0.8434,  0.6503, -0.2428,  0.9844]), obj. func. value: 7.7533\n"
     ]
    },
    {
     "name": "stderr",
     "output_type": "stream",
     "text": [
      "100%|██████████| 100/100 [00:00<00:00, 175.54it/s]\n"
     ]
    },
    {
     "name": "stdout",
     "output_type": "stream",
     "text": [
      "--------------------\n",
      "iteration: 8\n",
      "incumbent: tensor([ 0.7224,  0.4977,  0.9110,  1.3525,  0.8434,  0.6503, -0.2428,  0.9844]), obj. func. value: 7.7533\n"
     ]
    },
    {
     "name": "stderr",
     "output_type": "stream",
     "text": [
      "100%|██████████| 100/100 [00:00<00:00, 160.47it/s]\n"
     ]
    },
    {
     "name": "stdout",
     "output_type": "stream",
     "text": [
      "--------------------\n",
      "iteration: 9\n",
      "incumbent: tensor([ 0.7224,  0.4977,  0.9110,  1.3525,  0.8434,  0.6503, -0.2428,  0.9844]), obj. func. value: 7.7533\n"
     ]
    },
    {
     "name": "stderr",
     "output_type": "stream",
     "text": [
      "100%|██████████| 100/100 [00:00<00:00, 155.41it/s]\n"
     ]
    }
   ],
   "source": [
    "# BayesOpt: minimize the objective function --> .min()\n",
    "num_iters = 100\n",
    "num_queries = 10\n",
    "for i in range(num_queries):\n",
    "    print(\"-\"*20)\n",
    "    print(f\"iteration: {i}\")\n",
    "    print(f\"incumbent: {X_train_scaled[y_train.argmin()]}, obj. func. value: {y_train.min():.4f}\")\n",
    "\n",
    "    model, likelihood, loss_hist = fit_model(GP, num_iters)\n",
    "\n",
    "    policy = botorch.acquisition.analytic.ProbabilityOfImprovement(\n",
    "            model, best_f=y_train.min()\n",
    "        )\n",
    "\n",
    "    next_x, acq_score = botorch.optim.optimize_acqf(\n",
    "        policy,\n",
    "        bounds=bounds,\n",
    "        q=1,\n",
    "        num_restarts=20*8,\n",
    "        raw_samples=50*8\n",
    "    )\n",
    "\n",
    "    # evaluate the objective function and update training data\n",
    "    with torch.no_grad():\n",
    "        predictive_dist = likelihood(model(next_x))\n",
    "        next_y_mean = predictive_dist.mean\n",
    "        # predictive_upper, predictive_lower = predictive_dist.confidence_region()\n",
    "    \n",
    "    X_train_scaled = torch.cat([X_train_scaled, next_x])\n",
    "    y_train = torch.cat([y_train, next_y_mean])"
   ]
  },
  {
   "cell_type": "code",
   "execution_count": 21,
   "metadata": {},
   "outputs": [
    {
     "data": {
      "text/plain": [
       "tensor([[0.1961, 0.1992, 0.2057, 0.3161, 0.2977, 0.4436, 0.6264, 0.2457]],\n",
       "       grad_fn=<SoftplusBackward0>)"
      ]
     },
     "execution_count": 21,
     "metadata": {},
     "output_type": "execute_result"
    }
   ],
   "source": [
    "model.covar_module.base_kernel.lengthscale"
   ]
  },
  {
   "cell_type": "code",
   "execution_count": 22,
   "metadata": {},
   "outputs": [
    {
     "data": {
      "image/png": "[encoded data removed]",
      "text/plain": [
       "<Figure size 700x300 with 1 Axes>"
      ]
     },
     "metadata": {},
     "output_type": "display_data"
    }
   ],
   "source": [
    "plt.figure(figsize=(7, 3))\n",
    "plt.plot(torch.arange(len(loss_hist)), loss_hist)\n",
    "plt.xlabel(\"Iteration\")\n",
    "plt.ylabel(\"Marginal Log-Likelihood\")\n",
    "plt.title(f\"Loss: {loss_hist[-1]:.4f}\");"
   ]
  },
  {
   "cell_type": "code",
   "execution_count": 23,
   "metadata": {},
   "outputs": [],
   "source": [
    "minimizing_features = pd.DataFrame(X_train_scaled.numpy()[y_train.argmin()]).T\n",
    "minimizing_features.columns = list(X_train.columns)\n",
    "minimizing_features[\"objective_value\"] = y_train.min().item()"
   ]
  },
  {
   "cell_type": "code",
   "execution_count": 24,
   "metadata": {},
   "outputs": [
    {
     "data": {
      "text/html": [
       "<div>\n",
       "<style scoped>\n",
       "    .dataframe tbody tr th:only-of-type {\n",
       "        vertical-align: middle;\n",
       "    }\n",
       "\n",
       "    .dataframe tbody tr th {\n",
       "        vertical-align: top;\n",
       "    }\n",
       "\n",
       "    .dataframe thead th {\n",
       "        text-align: right;\n",
       "    }\n",
       "</style>\n",
       "<table border=\"1\" class=\"dataframe\">\n",
       "  <thead>\n",
       "    <tr style=\"text-align: right;\">\n",
       "      <th></th>\n",
       "      <th>relative_compactness</th>\n",
       "      <th>surface_area</th>\n",
       "      <th>wall_area</th>\n",
       "      <th>roof_area</th>\n",
       "      <th>overall_height</th>\n",
       "      <th>orientation</th>\n",
       "      <th>glazing_area</th>\n",
       "      <th>glazing_area_distribution</th>\n",
       "      <th>objective_value</th>\n",
       "    </tr>\n",
       "  </thead>\n",
       "  <tbody>\n",
       "    <tr>\n",
       "      <th>0</th>\n",
       "      <td>0.722426</td>\n",
       "      <td>0.497718</td>\n",
       "      <td>0.911004</td>\n",
       "      <td>1.352464</td>\n",
       "      <td>0.843402</td>\n",
       "      <td>0.650295</td>\n",
       "      <td>-0.242757</td>\n",
       "      <td>0.984442</td>\n",
       "      <td>7.753261</td>\n",
       "    </tr>\n",
       "  </tbody>\n",
       "</table>\n",
       "</div>"
      ],
      "text/plain": [
       "   relative_compactness  surface_area  wall_area  roof_area  overall_height  \\\n",
       "0              0.722426      0.497718   0.911004   1.352464        0.843402   \n",
       "\n",
       "   orientation  glazing_area  glazing_area_distribution  objective_value  \n",
       "0     0.650295     -0.242757                   0.984442         7.753261  "
      ]
     },
     "execution_count": 24,
     "metadata": {},
     "output_type": "execute_result"
    }
   ],
   "source": [
    "minimizing_features"
   ]
  },
  {
   "cell_type": "code",
   "execution_count": 18,
   "metadata": {},
   "outputs": [
    {
     "data": {
      "text/plain": [
       "tensor([[ 0.7224,  0.4977,  0.9110,  1.3525,  0.8434,  0.6503, -0.2428,  0.9844],\n",
       "        [ 0.4277,  0.3942,  0.7922,  0.7195,  0.7890, -0.1481,  0.4162,  0.3790],\n",
       "        [ 0.7351,  0.2994,  0.2244,  0.2561,  1.0265,  1.1110,  1.3259,  0.2174],\n",
       "        [ 0.7793, -0.0322,  0.2384,  0.2080,  1.2789,  1.3362, -0.1387,  0.8613],\n",
       "        [ 0.7076,  0.6330,  0.7879,  0.4467,  0.9706,  0.2149,  1.4057,  0.2235],\n",
       "        [ 0.2241,  0.7274,  0.1543,  0.6231,  0.0330,  0.9151,  1.7172,  0.4568],\n",
       "        [ 0.6142,  0.1395,  0.3768,  0.2519,  1.0876, -0.1039, -0.9508,  0.0899],\n",
       "        [ 0.4709,  0.2497,  0.3812,  0.0208,  0.6736,  0.0534,  0.7180,  0.6096],\n",
       "        [ 0.6726,  0.3353,  0.3330,  0.5973,  1.0169, -0.4700,  0.9339,  0.1384],\n",
       "        [ 0.3751,  0.4705,  0.9443,  0.0949,  1.0007, -0.1496, -0.0461,  0.0207]])"
      ]
     },
     "execution_count": 18,
     "metadata": {},
     "output_type": "execute_result"
    }
   ],
   "source": [
    "data_added = X_train_scaled[-10:]\n",
    "data_added"
   ]
  },
  {
   "cell_type": "code",
   "execution_count": 27,
   "metadata": {},
   "outputs": [
    {
     "data": {
      "text/plain": [
       "array([[ 0.28451717, -1.7483071 , -1.4232595 , -0.98773277, -0.7590281 ,\n",
       "        -0.44990158, -0.6068915 ,  0.1968884 ]], dtype=float32)"
      ]
     },
     "execution_count": 27,
     "metadata": {},
     "output_type": "execute_result"
    }
   ],
   "source": [
    "min_max_scaler.transform(minimizing_features.iloc[:, :-1])"
   ]
  },
  {
   "cell_type": "markdown",
   "metadata": {},
   "source": [
    "## Dimensionality of grid predictions\n",
    "\n",
    "Computational complexity $\\mathcal{O}$ depends on the number of dimensions and the grandularity of the linspace."
   ]
  },
  {
   "cell_type": "code",
   "execution_count": 65,
   "metadata": {},
   "outputs": [],
   "source": [
    "grid_x = torch.linspace(0, 1, 50)\n",
    "grid_x1, grid_x2 = torch.meshgrid(grid_x, grid_x, indexing=\"ij\")\n",
    "xs = torch.vstack([grid_x1.flatten(), grid_x2.flatten()]).transpose(-1, -2)"
   ]
  },
  {
   "cell_type": "code",
   "execution_count": 66,
   "metadata": {},
   "outputs": [
    {
     "data": {
      "text/plain": [
       "(torch.Size([50, 50]), torch.Size([50, 50]), torch.Size([2500, 2]))"
      ]
     },
     "execution_count": 66,
     "metadata": {},
     "output_type": "execute_result"
    }
   ],
   "source": [
    "grid_x1.shape, grid_x2.shape, xs.shape"
   ]
  },
  {
   "cell_type": "code",
   "execution_count": 67,
   "metadata": {},
   "outputs": [
    {
     "data": {
      "text/plain": [
       "2500"
      ]
     },
     "execution_count": 67,
     "metadata": {},
     "output_type": "execute_result"
    }
   ],
   "source": [
    "50**2 # 2,500 rows and 2 dimensions (columns)"
   ]
  },
  {
   "cell_type": "code",
   "execution_count": 50,
   "metadata": {},
   "outputs": [],
   "source": [
    "grid_x = torch.linspace(0, 1, 10) # ONLY 10 points\n",
    "grid_1, grid_2, grid_3, grid_4, grid_5, grid_6, grid_7, grid_8 = torch.meshgrid(\n",
    "    [grid_x, grid_x, grid_x, grid_x, grid_x, grid_x, grid_x, grid_x], \n",
    "    indexing='ij'\n",
    ")"
   ]
  },
  {
   "cell_type": "code",
   "execution_count": 68,
   "metadata": {},
   "outputs": [
    {
     "data": {
      "text/plain": [
       "(torch.Size([10, 10, 10, 10, 10, 10, 10, 10]), torch.Size([100000000]))"
      ]
     },
     "execution_count": 68,
     "metadata": {},
     "output_type": "execute_result"
    }
   ],
   "source": [
    "grid_1.shape, grid_1.flatten().shape"
   ]
  },
  {
   "cell_type": "code",
   "execution_count": 69,
   "metadata": {},
   "outputs": [
    {
     "data": {
      "text/plain": [
       "100000000"
      ]
     },
     "execution_count": 69,
     "metadata": {},
     "output_type": "execute_result"
    }
   ],
   "source": [
    "10**8 # 100 million rows and 8 dimensions (columns)"
   ]
  }
 ],
 "metadata": {
  "kernelspec": {
   "display_name": "bayesopt",
   "language": "python",
   "name": "python3"
  },
  "language_info": {
   "codemirror_mode": {
    "name": "ipython",
    "version": 3
   },
   "file_extension": ".py",
   "mimetype": "text/x-python",
   "name": "python",
   "nbconvert_exporter": "python",
   "pygments_lexer": "ipython3",
   "version": "3.11.6"
  }
 },
 "nbformat": 4,
 "nbformat_minor": 2
}
