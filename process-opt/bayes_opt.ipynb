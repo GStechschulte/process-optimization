{
 "cells": [
  {
   "cell_type": "code",
   "execution_count": 1,
   "metadata": {},
   "outputs": [
    {
     "name": "stderr",
     "output_type": "stream",
     "text": [
      "/Users/gabestechschulte/miniforge3/envs/bayesopt/lib/python3.11/site-packages/tqdm/auto.py:21: TqdmWarning: IProgress not found. Please update jupyter and ipywidgets. See https://ipywidgets.readthedocs.io/en/stable/user_install.html\n",
      "  from .autonotebook import tqdm as notebook_tqdm\n"
     ]
    }
   ],
   "source": [
    "import botorch\n",
    "import gpytorch\n",
    "import matplotlib.pyplot as plt\n",
    "import pandas as pd\n",
    "import torch\n",
    "from tqdm import tqdm\n",
    "\n",
    "from sklearn.model_selection import train_test_split\n",
    "from sklearn.preprocessing import MinMaxScaler"
   ]
  },
  {
   "cell_type": "code",
   "execution_count": 2,
   "metadata": {},
   "outputs": [],
   "source": [
    "building_energy = pd.read_excel(\"../data/ENB2012_data.xlsx\")"
   ]
  },
  {
   "cell_type": "code",
   "execution_count": 3,
   "metadata": {},
   "outputs": [],
   "source": [
    "feature_names = [\n",
    "    \"Relative Compactness\", \"Surface Area\", \"Wall Area\", \n",
    "    \"Roof Area\", \"Overall Height\", \"Orientation\", \n",
    "    \"Glazing Area\", \"Glazing Area Distribution\", \"Heating Load\", \n",
    "    \"Cooling Load\"\n",
    "]\n",
    "\n",
    "building_energy.columns = feature_names\n",
    "building_energy.columns = (building_energy.columns\n",
    "                           .str.replace(' ', '_')\n",
    "                           .str.lower()\n",
    "                        )\n",
    "\n",
    "building_energy[\"energy_consumption\"] = building_energy[[\"heating_load\", \"cooling_load\"]].sum(axis=1)"
   ]
  },
  {
   "cell_type": "code",
   "execution_count": 4,
   "metadata": {},
   "outputs": [],
   "source": [
    "X = building_energy.drop([\"heating_load\", \"cooling_load\", \"energy_consumption\"], axis=1)\n",
    "y = building_energy[\"energy_consumption\"]"
   ]
  },
  {
   "cell_type": "code",
   "execution_count": 5,
   "metadata": {},
   "outputs": [
    {
     "data": {
      "text/html": [
       "<div>\n",
       "<style scoped>\n",
       "    .dataframe tbody tr th:only-of-type {\n",
       "        vertical-align: middle;\n",
       "    }\n",
       "\n",
       "    .dataframe tbody tr th {\n",
       "        vertical-align: top;\n",
       "    }\n",
       "\n",
       "    .dataframe thead th {\n",
       "        text-align: right;\n",
       "    }\n",
       "</style>\n",
       "<table border=\"1\" class=\"dataframe\">\n",
       "  <thead>\n",
       "    <tr style=\"text-align: right;\">\n",
       "      <th></th>\n",
       "      <th>count</th>\n",
       "      <th>mean</th>\n",
       "      <th>std</th>\n",
       "      <th>min</th>\n",
       "      <th>25%</th>\n",
       "      <th>50%</th>\n",
       "      <th>75%</th>\n",
       "      <th>max</th>\n",
       "    </tr>\n",
       "  </thead>\n",
       "  <tbody>\n",
       "    <tr>\n",
       "      <th>relative_compactness</th>\n",
       "      <td>768.0</td>\n",
       "      <td>0.764167</td>\n",
       "      <td>0.105777</td>\n",
       "      <td>0.62</td>\n",
       "      <td>0.6825</td>\n",
       "      <td>0.75</td>\n",
       "      <td>0.8300</td>\n",
       "      <td>0.98</td>\n",
       "    </tr>\n",
       "    <tr>\n",
       "      <th>surface_area</th>\n",
       "      <td>768.0</td>\n",
       "      <td>671.708333</td>\n",
       "      <td>88.086116</td>\n",
       "      <td>514.50</td>\n",
       "      <td>606.3750</td>\n",
       "      <td>673.75</td>\n",
       "      <td>741.1250</td>\n",
       "      <td>808.50</td>\n",
       "    </tr>\n",
       "    <tr>\n",
       "      <th>wall_area</th>\n",
       "      <td>768.0</td>\n",
       "      <td>318.500000</td>\n",
       "      <td>43.626481</td>\n",
       "      <td>245.00</td>\n",
       "      <td>294.0000</td>\n",
       "      <td>318.50</td>\n",
       "      <td>343.0000</td>\n",
       "      <td>416.50</td>\n",
       "    </tr>\n",
       "    <tr>\n",
       "      <th>roof_area</th>\n",
       "      <td>768.0</td>\n",
       "      <td>176.604167</td>\n",
       "      <td>45.165950</td>\n",
       "      <td>110.25</td>\n",
       "      <td>140.8750</td>\n",
       "      <td>183.75</td>\n",
       "      <td>220.5000</td>\n",
       "      <td>220.50</td>\n",
       "    </tr>\n",
       "    <tr>\n",
       "      <th>overall_height</th>\n",
       "      <td>768.0</td>\n",
       "      <td>5.250000</td>\n",
       "      <td>1.751140</td>\n",
       "      <td>3.50</td>\n",
       "      <td>3.5000</td>\n",
       "      <td>5.25</td>\n",
       "      <td>7.0000</td>\n",
       "      <td>7.00</td>\n",
       "    </tr>\n",
       "    <tr>\n",
       "      <th>orientation</th>\n",
       "      <td>768.0</td>\n",
       "      <td>3.500000</td>\n",
       "      <td>1.118763</td>\n",
       "      <td>2.00</td>\n",
       "      <td>2.7500</td>\n",
       "      <td>3.50</td>\n",
       "      <td>4.2500</td>\n",
       "      <td>5.00</td>\n",
       "    </tr>\n",
       "    <tr>\n",
       "      <th>glazing_area</th>\n",
       "      <td>768.0</td>\n",
       "      <td>0.234375</td>\n",
       "      <td>0.133221</td>\n",
       "      <td>0.00</td>\n",
       "      <td>0.1000</td>\n",
       "      <td>0.25</td>\n",
       "      <td>0.4000</td>\n",
       "      <td>0.40</td>\n",
       "    </tr>\n",
       "    <tr>\n",
       "      <th>glazing_area_distribution</th>\n",
       "      <td>768.0</td>\n",
       "      <td>2.812500</td>\n",
       "      <td>1.550960</td>\n",
       "      <td>0.00</td>\n",
       "      <td>1.7500</td>\n",
       "      <td>3.00</td>\n",
       "      <td>4.0000</td>\n",
       "      <td>5.00</td>\n",
       "    </tr>\n",
       "    <tr>\n",
       "      <th>heating_load</th>\n",
       "      <td>768.0</td>\n",
       "      <td>22.307195</td>\n",
       "      <td>10.090204</td>\n",
       "      <td>6.01</td>\n",
       "      <td>12.9925</td>\n",
       "      <td>18.95</td>\n",
       "      <td>31.6675</td>\n",
       "      <td>43.10</td>\n",
       "    </tr>\n",
       "    <tr>\n",
       "      <th>cooling_load</th>\n",
       "      <td>768.0</td>\n",
       "      <td>24.587760</td>\n",
       "      <td>9.513306</td>\n",
       "      <td>10.90</td>\n",
       "      <td>15.6200</td>\n",
       "      <td>22.08</td>\n",
       "      <td>33.1325</td>\n",
       "      <td>48.03</td>\n",
       "    </tr>\n",
       "    <tr>\n",
       "      <th>energy_consumption</th>\n",
       "      <td>768.0</td>\n",
       "      <td>46.894956</td>\n",
       "      <td>19.484955</td>\n",
       "      <td>16.95</td>\n",
       "      <td>28.7500</td>\n",
       "      <td>40.97</td>\n",
       "      <td>64.3350</td>\n",
       "      <td>89.95</td>\n",
       "    </tr>\n",
       "  </tbody>\n",
       "</table>\n",
       "</div>"
      ],
      "text/plain": [
       "                           count        mean        std     min       25%  \\\n",
       "relative_compactness       768.0    0.764167   0.105777    0.62    0.6825   \n",
       "surface_area               768.0  671.708333  88.086116  514.50  606.3750   \n",
       "wall_area                  768.0  318.500000  43.626481  245.00  294.0000   \n",
       "roof_area                  768.0  176.604167  45.165950  110.25  140.8750   \n",
       "overall_height             768.0    5.250000   1.751140    3.50    3.5000   \n",
       "orientation                768.0    3.500000   1.118763    2.00    2.7500   \n",
       "glazing_area               768.0    0.234375   0.133221    0.00    0.1000   \n",
       "glazing_area_distribution  768.0    2.812500   1.550960    0.00    1.7500   \n",
       "heating_load               768.0   22.307195  10.090204    6.01   12.9925   \n",
       "cooling_load               768.0   24.587760   9.513306   10.90   15.6200   \n",
       "energy_consumption         768.0   46.894956  19.484955   16.95   28.7500   \n",
       "\n",
       "                              50%       75%     max  \n",
       "relative_compactness         0.75    0.8300    0.98  \n",
       "surface_area               673.75  741.1250  808.50  \n",
       "wall_area                  318.50  343.0000  416.50  \n",
       "roof_area                  183.75  220.5000  220.50  \n",
       "overall_height               5.25    7.0000    7.00  \n",
       "orientation                  3.50    4.2500    5.00  \n",
       "glazing_area                 0.25    0.4000    0.40  \n",
       "glazing_area_distribution    3.00    4.0000    5.00  \n",
       "heating_load                18.95   31.6675   43.10  \n",
       "cooling_load                22.08   33.1325   48.03  \n",
       "energy_consumption          40.97   64.3350   89.95  "
      ]
     },
     "execution_count": 5,
     "metadata": {},
     "output_type": "execute_result"
    }
   ],
   "source": [
    "building_energy.describe().T"
   ]
  },
  {
   "cell_type": "code",
   "execution_count": 6,
   "metadata": {},
   "outputs": [
    {
     "data": {
      "text/plain": [
       "relative_compactness          12\n",
       "surface_area                  12\n",
       "wall_area                      7\n",
       "roof_area                      4\n",
       "overall_height                 2\n",
       "orientation                    4\n",
       "glazing_area                   4\n",
       "glazing_area_distribution      6\n",
       "heating_load                 587\n",
       "cooling_load                 636\n",
       "energy_consumption           700\n",
       "dtype: int64"
      ]
     },
     "execution_count": 6,
     "metadata": {},
     "output_type": "execute_result"
    }
   ],
   "source": [
    "building_energy.nunique()"
   ]
  },
  {
   "cell_type": "markdown",
   "metadata": {},
   "source": [
    "## GP training"
   ]
  },
  {
   "cell_type": "code",
   "execution_count": 7,
   "metadata": {},
   "outputs": [],
   "source": [
    "X_train, X_test, y_train, y_test = train_test_split(X, y, test_size=0.3)\n",
    "\n",
    "scaler = MinMaxScaler()\n",
    "\n",
    "X_train_scaled = torch.tensor(scaler.fit_transform(X_train), dtype=torch.float)\n",
    "X_test_scaled = torch.tensor(scaler.transform(X_test), dtype=torch.float)\n",
    "\n",
    "y_train = torch.tensor(y_train.values, dtype=torch.float)\n",
    "y_test = torch.tensor(y_test.values, dtype=torch.float)"
   ]
  },
  {
   "cell_type": "code",
   "execution_count": 8,
   "metadata": {},
   "outputs": [],
   "source": [
    "class GP(gpytorch.models.ExactGP, botorch.models.gpytorch.GPyTorchModel):\n",
    "    num_outputs = 1\n",
    "    def __init__(self, train_x, train_y, likelihood):\n",
    "        super(GP, self).__init__(train_x, train_y, likelihood)\n",
    "        self.mean_module = gpytorch.means.ConstantMean()\n",
    "        self.covar_module = gpytorch.kernels.ScaleKernel(\n",
    "            gpytorch.kernels.RBFKernel(\n",
    "                ard_num_dims=train_x.shape[1]\n",
    "                )\n",
    "        )\n",
    "\n",
    "    def forward(self, x):\n",
    "        mean_x = self.mean_module(x)\n",
    "        covar_x = self.covar_module(x)\n",
    "        return gpytorch.distributions.MultivariateNormal(mean_x, covar_x)"
   ]
  },
  {
   "cell_type": "code",
   "execution_count": 9,
   "metadata": {},
   "outputs": [],
   "source": [
    "def fit_model(gp_model, num_iters=100):\n",
    "    noise = 1e-4\n",
    "    likelihood = gpytorch.likelihoods.GaussianLikelihood()\n",
    "    model = gp_model(X_train_scaled, y_train, likelihood)\n",
    "    model.likelihood.noise = noise\n",
    "    optimizer = torch.optim.Adam(model.parameters(), lr=0.1)\n",
    "    mll = gpytorch.mlls.ExactMarginalLogLikelihood(likelihood, model)\n",
    "\n",
    "    model.train()\n",
    "    likelihood.train()\n",
    "\n",
    "    loss_hist = []\n",
    "    for _ in tqdm(range(num_iters)):\n",
    "        optimizer.zero_grad()\n",
    "        output = model(X_train_scaled)\n",
    "        loss = -mll(output, y_train)\n",
    "        loss_hist.append(loss.item())\n",
    "\n",
    "        loss.backward()\n",
    "        optimizer.step()\n",
    "    \n",
    "    return model, likelihood, loss_hist"
   ]
  },
  {
   "cell_type": "code",
   "execution_count": 10,
   "metadata": {},
   "outputs": [],
   "source": [
    "# metrics\n",
    "# nlpd = gpytorch.metrics.negative_log_predictive_density(predictive_dist, y_test)\n",
    "# mse = gpytorch.metrics.mean_squared_error(predictive_dist, y_test, squared=True)\n",
    "# mae = gpytorch.metrics.mean_absolute_error(predictive_dist, y_test)"
   ]
  },
  {
   "cell_type": "markdown",
   "metadata": {},
   "source": [
    "Setting the bounds for the domain (search space) requires prior knowledge about the problem. \n",
    "\n",
    "It may not be desireable to set the lower and upper bound to the empirical min and max if it is possible to have values outside of these ranges. Doing so may restrict the domain, and thus the co-domain.\n",
    "\n",
    "Additionally, bounds may be set that are according to technical specifications. For example, belt speed, cutting angle, etc."
   ]
  },
  {
   "cell_type": "code",
   "execution_count": 11,
   "metadata": {},
   "outputs": [],
   "source": [
    "bounds = torch.tensor(\n",
    "    [\n",
    "        [-2, -2, -2, -2, -2, -2, -2, -2],\n",
    "        [2, 2, 2, 2, 2, 2, 2, 2],\n",
    "    ],\n",
    "    dtype=torch.float,\n",
    ")"
   ]
  },
  {
   "cell_type": "code",
   "execution_count": 12,
   "metadata": {},
   "outputs": [
    {
     "name": "stdout",
     "output_type": "stream",
     "text": [
      "--------------------\n",
      "iteration: 0\n",
      "incumbent: tensor([0.3333, 0.5833, 0.0000, 1.0000, 0.0000, 0.6667, 0.0000, 0.0000]), obj. func. value: 16.9500\n"
     ]
    },
    {
     "name": "stderr",
     "output_type": "stream",
     "text": [
      "100%|██████████| 100/100 [00:00<00:00, 158.07it/s]\n"
     ]
    },
    {
     "name": "stdout",
     "output_type": "stream",
     "text": [
      "--------------------\n",
      "iteration: 1\n",
      "incumbent: tensor([ 1.1603,  0.1424,  0.3576,  0.5541,  0.3926, -0.0817, -0.1521,  1.3667]), obj. func. value: 8.1213\n"
     ]
    },
    {
     "name": "stderr",
     "output_type": "stream",
     "text": [
      "100%|██████████| 100/100 [00:00<00:00, 163.26it/s]\n"
     ]
    },
    {
     "name": "stdout",
     "output_type": "stream",
     "text": [
      "--------------------\n",
      "iteration: 2\n",
      "incumbent: tensor([ 1.1603,  0.1424,  0.3576,  0.5541,  0.3926, -0.0817, -0.1521,  1.3667]), obj. func. value: 8.1213\n"
     ]
    },
    {
     "name": "stderr",
     "output_type": "stream",
     "text": [
      "100%|██████████| 100/100 [00:00<00:00, 155.26it/s]\n"
     ]
    },
    {
     "name": "stdout",
     "output_type": "stream",
     "text": [
      "--------------------\n",
      "iteration: 3\n",
      "incumbent: tensor([ 1.1603,  0.1424,  0.3576,  0.5541,  0.3926, -0.0817, -0.1521,  1.3667]), obj. func. value: 8.1213\n"
     ]
    },
    {
     "name": "stderr",
     "output_type": "stream",
     "text": [
      "100%|██████████| 100/100 [00:00<00:00, 162.95it/s]\n"
     ]
    },
    {
     "name": "stdout",
     "output_type": "stream",
     "text": [
      "--------------------\n",
      "iteration: 4\n",
      "incumbent: tensor([ 1.1603,  0.1424,  0.3576,  0.5541,  0.3926, -0.0817, -0.1521,  1.3667]), obj. func. value: 8.1213\n"
     ]
    },
    {
     "name": "stderr",
     "output_type": "stream",
     "text": [
      "100%|██████████| 100/100 [00:00<00:00, 155.87it/s]\n"
     ]
    },
    {
     "name": "stdout",
     "output_type": "stream",
     "text": [
      "--------------------\n",
      "iteration: 5\n",
      "incumbent: tensor([ 1.1603,  0.1424,  0.3576,  0.5541,  0.3926, -0.0817, -0.1521,  1.3667]), obj. func. value: 8.1213\n"
     ]
    },
    {
     "name": "stderr",
     "output_type": "stream",
     "text": [
      "100%|██████████| 100/100 [00:00<00:00, 159.36it/s]\n"
     ]
    },
    {
     "name": "stdout",
     "output_type": "stream",
     "text": [
      "--------------------\n",
      "iteration: 6\n",
      "incumbent: tensor([ 1.1603,  0.1424,  0.3576,  0.5541,  0.3926, -0.0817, -0.1521,  1.3667]), obj. func. value: 8.1213\n"
     ]
    },
    {
     "name": "stderr",
     "output_type": "stream",
     "text": [
      "100%|██████████| 100/100 [00:00<00:00, 156.56it/s]\n"
     ]
    },
    {
     "name": "stdout",
     "output_type": "stream",
     "text": [
      "--------------------\n",
      "iteration: 7\n",
      "incumbent: tensor([ 1.1603,  0.1424,  0.3576,  0.5541,  0.3926, -0.0817, -0.1521,  1.3667]), obj. func. value: 8.1213\n"
     ]
    },
    {
     "name": "stderr",
     "output_type": "stream",
     "text": [
      "100%|██████████| 100/100 [00:00<00:00, 164.87it/s]\n"
     ]
    },
    {
     "name": "stdout",
     "output_type": "stream",
     "text": [
      "--------------------\n",
      "iteration: 8\n",
      "incumbent: tensor([ 1.1603,  0.1424,  0.3576,  0.5541,  0.3926, -0.0817, -0.1521,  1.3667]), obj. func. value: 8.1213\n"
     ]
    },
    {
     "name": "stderr",
     "output_type": "stream",
     "text": [
      "100%|██████████| 100/100 [00:00<00:00, 155.90it/s]\n"
     ]
    },
    {
     "name": "stdout",
     "output_type": "stream",
     "text": [
      "--------------------\n",
      "iteration: 9\n",
      "incumbent: tensor([ 1.1603,  0.1424,  0.3576,  0.5541,  0.3926, -0.0817, -0.1521,  1.3667]), obj. func. value: 8.1213\n"
     ]
    },
    {
     "name": "stderr",
     "output_type": "stream",
     "text": [
      "100%|██████████| 100/100 [00:00<00:00, 157.58it/s]\n"
     ]
    }
   ],
   "source": [
    "# BayesOpt: minimize the objective function --> .min()\n",
    "num_iters = 100\n",
    "num_queries = 10\n",
    "for i in range(num_queries):\n",
    "    print(\"-\"*20)\n",
    "    print(f\"iteration: {i}\")\n",
    "    print(f\"incumbent: {X_train_scaled[y_train.argmin()]}, obj. func. value: {y_train.min():.4f}\")\n",
    "\n",
    "    model, likelihood, loss_hist = fit_model(GP, num_iters)\n",
    "\n",
    "    policy = botorch.acquisition.analytic.ProbabilityOfImprovement(\n",
    "            model, best_f=y_train.min()\n",
    "        )\n",
    "\n",
    "    next_x, acq_score = botorch.optim.optimize_acqf(\n",
    "        policy,\n",
    "        bounds=bounds,\n",
    "        q=1,\n",
    "        num_restarts=20*8,\n",
    "        raw_samples=50*8\n",
    "    )\n",
    "\n",
    "    # evaluate the objective function and update training data\n",
    "    with torch.no_grad():\n",
    "        predictive_dist = likelihood(model(next_x))\n",
    "        next_y_mean = predictive_dist.mean\n",
    "        # predictive_upper, predictive_lower = predictive_dist.confidence_region()\n",
    "    \n",
    "    X_train_scaled = torch.cat([X_train_scaled, next_x])\n",
    "    y_train = torch.cat([y_train, next_y_mean])"
   ]
  },
  {
   "cell_type": "code",
   "execution_count": 13,
   "metadata": {},
   "outputs": [
    {
     "data": {
      "text/plain": [
       "tensor([[0.2026, 0.2038, 0.2133, 0.3319, 0.3012, 0.4663, 0.6127, 0.2391]],\n",
       "       grad_fn=<SoftplusBackward0>)"
      ]
     },
     "execution_count": 13,
     "metadata": {},
     "output_type": "execute_result"
    }
   ],
   "source": [
    "model.covar_module.base_kernel.lengthscale"
   ]
  },
  {
   "cell_type": "code",
   "execution_count": 14,
   "metadata": {},
   "outputs": [
    {
     "data": {
      "image/png": "[encoded data removed]",
      "text/plain": [
       "<Figure size 700x300 with 1 Axes>"
      ]
     },
     "metadata": {},
     "output_type": "display_data"
    }
   ],
   "source": [
    "plt.figure(figsize=(7, 3))\n",
    "plt.plot(torch.arange(len(loss_hist)), loss_hist)\n",
    "plt.xlabel(\"Iteration\")\n",
    "plt.ylabel(\"Marginal Log-Likelihood\")\n",
    "plt.title(f\"Loss: {loss_hist[-1]:.4f}\");"
   ]
  },
  {
   "cell_type": "code",
   "execution_count": 15,
   "metadata": {},
   "outputs": [],
   "source": [
    "minimizing_features = pd.DataFrame(X_train_scaled.numpy()[y_train.argmin()]).T\n",
    "minimizing_features.columns = list(X_train.columns)\n",
    "minimizing_features[\"objective_value\"] = y_train.min().item()"
   ]
  },
  {
   "cell_type": "code",
   "execution_count": 16,
   "metadata": {},
   "outputs": [
    {
     "data": {
      "text/html": [
       "<div>\n",
       "<style scoped>\n",
       "    .dataframe tbody tr th:only-of-type {\n",
       "        vertical-align: middle;\n",
       "    }\n",
       "\n",
       "    .dataframe tbody tr th {\n",
       "        vertical-align: top;\n",
       "    }\n",
       "\n",
       "    .dataframe thead th {\n",
       "        text-align: right;\n",
       "    }\n",
       "</style>\n",
       "<table border=\"1\" class=\"dataframe\">\n",
       "  <thead>\n",
       "    <tr style=\"text-align: right;\">\n",
       "      <th></th>\n",
       "      <th>relative_compactness</th>\n",
       "      <th>surface_area</th>\n",
       "      <th>wall_area</th>\n",
       "      <th>roof_area</th>\n",
       "      <th>overall_height</th>\n",
       "      <th>orientation</th>\n",
       "      <th>glazing_area</th>\n",
       "      <th>glazing_area_distribution</th>\n",
       "      <th>objective_value</th>\n",
       "    </tr>\n",
       "  </thead>\n",
       "  <tbody>\n",
       "    <tr>\n",
       "      <th>0</th>\n",
       "      <td>1.160269</td>\n",
       "      <td>0.142387</td>\n",
       "      <td>0.357591</td>\n",
       "      <td>0.554069</td>\n",
       "      <td>0.392616</td>\n",
       "      <td>-0.081721</td>\n",
       "      <td>-0.15206</td>\n",
       "      <td>1.366684</td>\n",
       "      <td>8.121317</td>\n",
       "    </tr>\n",
       "  </tbody>\n",
       "</table>\n",
       "</div>"
      ],
      "text/plain": [
       "   relative_compactness  surface_area  wall_area  roof_area  overall_height  \\\n",
       "0              1.160269      0.142387   0.357591   0.554069        0.392616   \n",
       "\n",
       "   orientation  glazing_area  glazing_area_distribution  objective_value  \n",
       "0    -0.081721      -0.15206                   1.366684         8.121317  "
      ]
     },
     "execution_count": 16,
     "metadata": {},
     "output_type": "execute_result"
    }
   ],
   "source": [
    "minimizing_features"
   ]
  }
 ],
 "metadata": {
  "kernelspec": {
   "display_name": "bayesopt",
   "language": "python",
   "name": "python3"
  },
  "language_info": {
   "codemirror_mode": {
    "name": "ipython",
    "version": 3
   },
   "file_extension": ".py",
   "mimetype": "text/x-python",
   "name": "python",
   "nbconvert_exporter": "python",
   "pygments_lexer": "ipython3",
   "version": "3.11.6"
  }
 },
 "nbformat": 4,
 "nbformat_minor": 2
}
